{
 "cells": [
  {
   "cell_type": "code",
   "execution_count": null,
   "metadata": {},
   "outputs": [],
   "source": [
    "!pip install spacy\n",
    "!python -m spacy download en_core_web_sm"
   ]
  },
  {
   "cell_type": "code",
   "execution_count": null,
   "metadata": {},
   "outputs": [],
   "source": [
    "# install eMFDscore package \n",
    "!pip install https://github.com/medianeuroscience/emfdscore/archive/master.zip"
   ]
  },
  {
   "cell_type": "code",
   "execution_count": 1,
   "metadata": {},
   "outputs": [],
   "source": [
    "import pandas as pd \n",
    "import numpy as np\n",
    "# !pip install seaborn\n",
    "import seaborn as sns\n",
    "from matplotlib import pyplot as plt"
   ]
  },
  {
   "cell_type": "code",
   "execution_count": 7,
   "metadata": {},
   "outputs": [
    {
     "data": {
      "text/html": [
       "<div>\n",
       "<style scoped>\n",
       "    .dataframe tbody tr th:only-of-type {\n",
       "        vertical-align: middle;\n",
       "    }\n",
       "\n",
       "    .dataframe tbody tr th {\n",
       "        vertical-align: top;\n",
       "    }\n",
       "\n",
       "    .dataframe thead th {\n",
       "        text-align: right;\n",
       "    }\n",
       "</style>\n",
       "<table border=\"1\" class=\"dataframe\">\n",
       "  <thead>\n",
       "    <tr style=\"text-align: right;\">\n",
       "      <th></th>\n",
       "      <th>0</th>\n",
       "      <th>1</th>\n",
       "    </tr>\n",
       "  </thead>\n",
       "  <tbody>\n",
       "    <tr>\n",
       "      <th>1</th>\n",
       "      <td>ENERGY AND WATER DEVELOPMENT APPROPRIATIONS BI...</td>\n",
       "      <td>\\n                                            ...</td>\n",
       "    </tr>\n",
       "    <tr>\n",
       "      <th>2</th>\n",
       "      <td>ENERGY AND WATER DEVELOPMENT AND RELATED AGENC...</td>\n",
       "      <td>\\n117th Congress    }                         ...</td>\n",
       "    </tr>\n",
       "    <tr>\n",
       "      <th>3</th>\n",
       "      <td>PROVIDING FOR FURTHER CONSIDERATION OF THE BIL...</td>\n",
       "      <td>\\n117th Congress   }                          ...</td>\n",
       "    </tr>\n",
       "    <tr>\n",
       "      <th>4</th>\n",
       "      <td>ENERGY AND WATER DEVELOPMENT AND RELATED AGENC...</td>\n",
       "      <td>\\n117th Congress    }                         ...</td>\n",
       "    </tr>\n",
       "    <tr>\n",
       "      <th>5</th>\n",
       "      <td>COMMERCE, JUSTICE, SCIENCE, AND RELATED AGENCI...</td>\n",
       "      <td>\\n117th Congress }                            ...</td>\n",
       "    </tr>\n",
       "  </tbody>\n",
       "</table>\n",
       "</div>"
      ],
      "text/plain": [
       "                                                   0  \\\n",
       "1  ENERGY AND WATER DEVELOPMENT APPROPRIATIONS BI...   \n",
       "2  ENERGY AND WATER DEVELOPMENT AND RELATED AGENC...   \n",
       "3  PROVIDING FOR FURTHER CONSIDERATION OF THE BIL...   \n",
       "4  ENERGY AND WATER DEVELOPMENT AND RELATED AGENC...   \n",
       "5  COMMERCE, JUSTICE, SCIENCE, AND RELATED AGENCI...   \n",
       "\n",
       "                                                   1  \n",
       "1  \\n                                            ...  \n",
       "2  \\n117th Congress    }                         ...  \n",
       "3  \\n117th Congress   }                          ...  \n",
       "4  \\n117th Congress    }                         ...  \n",
       "5  \\n117th Congress }                            ...  "
      ]
     },
     "execution_count": 7,
     "metadata": {},
     "output_type": "execute_result"
    }
   ],
   "source": [
    "reports = pd.read_csv('reports.csv',header=None).iloc[1:,:]\n",
    "reports.head()"
   ]
  },
  {
   "cell_type": "code",
   "execution_count": null,
   "metadata": {},
   "outputs": [],
   "source": [
    "# !pip install spacy"
   ]
  },
  {
   "cell_type": "code",
   "execution_count": 3,
   "metadata": {},
   "outputs": [
    {
     "name": "stderr",
     "output_type": "stream",
     "text": [
      "c:\\Users\\jiatong\\miniconda3\\envs\\proceeds\\lib\\site-packages\\tqdm\\auto.py:22: TqdmWarning: IProgress not found. Please update jupyter and ipywidgets. See https://ipywidgets.readthedocs.io/en/stable/user_install.html\n",
      "  from .autonotebook import tqdm as notebook_tqdm\n",
      "Processed: 0   0% |                      | Elapsed Time: 0:00:00 ETA:  --:--:--\n",
      "Processed: 12  35% |❤❤❤❤❤❤❤              | Elapsed Time: 0:00:00 ETA:   0:00:00\n",
      "Processed: 21  61% |❤❤❤❤❤❤❤❤❤❤❤❤         | Elapsed Time: 0:00:00 ETA:   0:00:00\n",
      "Processed: 34 100% |❤❤❤❤❤❤❤❤❤❤❤❤❤❤❤❤❤❤❤❤❤| Elapsed Time: 0:00:00 ETA:  00:00:00\n",
      "Processed: 34 100% |❤❤❤❤❤❤❤❤❤❤❤❤❤❤❤❤❤❤❤❤❤| Elapsed Time: 0:00:00 Time:  0:00:00\n"
     ]
    },
    {
     "data": {
      "text/html": [
       "<div>\n",
       "<style scoped>\n",
       "    .dataframe tbody tr th:only-of-type {\n",
       "        vertical-align: middle;\n",
       "    }\n",
       "\n",
       "    .dataframe tbody tr th {\n",
       "        vertical-align: top;\n",
       "    }\n",
       "\n",
       "    .dataframe thead th {\n",
       "        text-align: right;\n",
       "    }\n",
       "</style>\n",
       "<table border=\"1\" class=\"dataframe\">\n",
       "  <thead>\n",
       "    <tr style=\"text-align: right;\">\n",
       "      <th></th>\n",
       "      <th>care_p</th>\n",
       "      <th>fairness_p</th>\n",
       "      <th>loyalty_p</th>\n",
       "      <th>authority_p</th>\n",
       "      <th>sanctity_p</th>\n",
       "      <th>care_sent</th>\n",
       "      <th>fairness_sent</th>\n",
       "      <th>loyalty_sent</th>\n",
       "      <th>authority_sent</th>\n",
       "      <th>sanctity_sent</th>\n",
       "      <th>moral_nonmoral_ratio</th>\n",
       "      <th>f_var</th>\n",
       "      <th>sent_var</th>\n",
       "    </tr>\n",
       "  </thead>\n",
       "  <tbody>\n",
       "    <tr>\n",
       "      <th>0</th>\n",
       "      <td>0.144163</td>\n",
       "      <td>0.092670</td>\n",
       "      <td>0.079362</td>\n",
       "      <td>0.071897</td>\n",
       "      <td>0.109940</td>\n",
       "      <td>0.092076</td>\n",
       "      <td>0.126656</td>\n",
       "      <td>0.180866</td>\n",
       "      <td>0.034578</td>\n",
       "      <td>0.124012</td>\n",
       "      <td>3.00</td>\n",
       "      <td>0.000829</td>\n",
       "      <td>0.002873</td>\n",
       "    </tr>\n",
       "    <tr>\n",
       "      <th>1</th>\n",
       "      <td>0.136782</td>\n",
       "      <td>0.113665</td>\n",
       "      <td>0.086840</td>\n",
       "      <td>0.101543</td>\n",
       "      <td>0.095983</td>\n",
       "      <td>0.040453</td>\n",
       "      <td>0.054306</td>\n",
       "      <td>0.099327</td>\n",
       "      <td>-0.056980</td>\n",
       "      <td>0.037378</td>\n",
       "      <td>5.00</td>\n",
       "      <td>0.000372</td>\n",
       "      <td>0.003252</td>\n",
       "    </tr>\n",
       "    <tr>\n",
       "      <th>2</th>\n",
       "      <td>0.139151</td>\n",
       "      <td>0.125921</td>\n",
       "      <td>0.092649</td>\n",
       "      <td>0.091342</td>\n",
       "      <td>0.087166</td>\n",
       "      <td>-0.009496</td>\n",
       "      <td>-0.028844</td>\n",
       "      <td>-0.007189</td>\n",
       "      <td>-0.043000</td>\n",
       "      <td>0.066754</td>\n",
       "      <td>2.75</td>\n",
       "      <td>0.000559</td>\n",
       "      <td>0.001796</td>\n",
       "    </tr>\n",
       "    <tr>\n",
       "      <th>3</th>\n",
       "      <td>0.136782</td>\n",
       "      <td>0.113665</td>\n",
       "      <td>0.086840</td>\n",
       "      <td>0.101543</td>\n",
       "      <td>0.095983</td>\n",
       "      <td>0.040453</td>\n",
       "      <td>0.054306</td>\n",
       "      <td>0.099327</td>\n",
       "      <td>-0.056980</td>\n",
       "      <td>0.037378</td>\n",
       "      <td>5.00</td>\n",
       "      <td>0.000372</td>\n",
       "      <td>0.003252</td>\n",
       "    </tr>\n",
       "    <tr>\n",
       "      <th>4</th>\n",
       "      <td>0.081892</td>\n",
       "      <td>0.114147</td>\n",
       "      <td>0.075666</td>\n",
       "      <td>0.093724</td>\n",
       "      <td>0.077925</td>\n",
       "      <td>0.174468</td>\n",
       "      <td>0.122251</td>\n",
       "      <td>0.170820</td>\n",
       "      <td>0.002097</td>\n",
       "      <td>-0.062283</td>\n",
       "      <td>2.00</td>\n",
       "      <td>0.000251</td>\n",
       "      <td>0.011315</td>\n",
       "    </tr>\n",
       "  </tbody>\n",
       "</table>\n",
       "</div>"
      ],
      "text/plain": [
       "     care_p  fairness_p  loyalty_p  authority_p  sanctity_p  care_sent  \\\n",
       "0  0.144163    0.092670   0.079362     0.071897    0.109940   0.092076   \n",
       "1  0.136782    0.113665   0.086840     0.101543    0.095983   0.040453   \n",
       "2  0.139151    0.125921   0.092649     0.091342    0.087166  -0.009496   \n",
       "3  0.136782    0.113665   0.086840     0.101543    0.095983   0.040453   \n",
       "4  0.081892    0.114147   0.075666     0.093724    0.077925   0.174468   \n",
       "\n",
       "   fairness_sent  loyalty_sent  authority_sent  sanctity_sent  \\\n",
       "0       0.126656      0.180866        0.034578       0.124012   \n",
       "1       0.054306      0.099327       -0.056980       0.037378   \n",
       "2      -0.028844     -0.007189       -0.043000       0.066754   \n",
       "3       0.054306      0.099327       -0.056980       0.037378   \n",
       "4       0.122251      0.170820        0.002097      -0.062283   \n",
       "\n",
       "   moral_nonmoral_ratio     f_var  sent_var  \n",
       "0                  3.00  0.000829  0.002873  \n",
       "1                  5.00  0.000372  0.003252  \n",
       "2                  2.75  0.000559  0.001796  \n",
       "3                  5.00  0.000372  0.003252  \n",
       "4                  2.00  0.000251  0.011315  "
      ]
     },
     "execution_count": 3,
     "metadata": {},
     "output_type": "execute_result"
    }
   ],
   "source": [
    "from emfdscore.scoring import score_docs \n",
    "\n",
    "num_docs = reports.shape[0]\n",
    "\n",
    "DICT_TYPE = 'emfd'\n",
    "PROB_MAP = 'all'\n",
    "SCORE_METHOD = 'bow'\n",
    "OUT_METRICS = 'sentiment'\n",
    "OUT_CSV_PATH = 'committee_reports_eMFDscore.csv'\n",
    "\n",
    "df = score_docs(reports,DICT_TYPE,PROB_MAP,SCORE_METHOD,OUT_METRICS,num_docs)\n",
    "# df.to_csv(OUT_CSV_PATH, index=False)\n",
    "df.head()"
   ]
  },
  {
   "cell_type": "code",
   "execution_count": 10,
   "metadata": {},
   "outputs": [],
   "source": [
    "cat_reports = pd.concat([reports.iloc[:,0],df],axis=1)"
   ]
  },
  {
   "cell_type": "code",
   "execution_count": 15,
   "metadata": {},
   "outputs": [],
   "source": [
    "# cat_reports.head()\n",
    "cat_reports.columns = ['title'] + list(cat_reports.columns[1:])\n",
    "cat_reports.to_csv(OUT_CSV_PATH, index=False)"
   ]
  },
  {
   "cell_type": "markdown",
   "metadata": {},
   "source": [
    "## DDR\n",
    "\n",
    "How to use it? Badly written instructions and interfaces."
   ]
  },
  {
   "cell_type": "code",
   "execution_count": 1,
   "metadata": {},
   "outputs": [
    {
     "name": "stdout",
     "output_type": "stream",
     "text": [
      "c:\\Users\\jiatong\\OneDrive - National University of Singapore\\Desktop\\SocialSciRA\\Web Text Scraping\\DDR\n",
      "running install"
     ]
    },
    {
     "name": "stderr",
     "output_type": "stream",
     "text": [
      "c:\\Users\\jiatong\\miniconda3\\envs\\proceeds\\lib\\site-packages\\setuptools\\command\\install.py:34: SetuptoolsDeprecationWarning: setup.py install is deprecated. Use build and pip and other standards-based tools.\n",
      "  warnings.warn(\n",
      "c:\\Users\\jiatong\\miniconda3\\envs\\proceeds\\lib\\site-packages\\setuptools\\command\\easy_install.py:144: EasyInstallDeprecationWarning: easy_install command is deprecated. Use build and pip and other standards-based tools.\n",
      "  warnings.warn(\n"
     ]
    },
    {
     "name": "stdout",
     "output_type": "stream",
     "text": [
      "\n",
      "running bdist_egg\n",
      "running egg_info\n",
      "writing ddr.egg-info\\PKG-INFO\n",
      "writing dependency_links to ddr.egg-info\\dependency_links.txt\n",
      "writing top-level names to ddr.egg-info\\top_level.txt\n",
      "reading manifest file 'ddr.egg-info\\SOURCES.txt'\n",
      "adding license file 'LICENSE'\n",
      "adding license file 'LICENSE.txt'\n",
      "writing manifest file 'ddr.egg-info\\SOURCES.txt'\n",
      "installing library code to build\\bdist.win-amd64\\egg\n",
      "running install_lib\n",
      "running build_py\n",
      "copying ddr\\get_loadings.py -> build\\lib\\ddr\n",
      "creating build\\bdist.win-amd64\\egg\n",
      "creating build\\bdist.win-amd64\\egg\\ddr\n",
      "copying build\\lib\\ddr\\cosine_similarity.py -> build\\bdist.win-amd64\\egg\\ddr\n",
      "copying build\\lib\\ddr\\file_length.py -> build\\bdist.win-amd64\\egg\\ddr\n",
      "copying build\\lib\\ddr\\get_loadings.py -> build\\bdist.win-amd64\\egg\\ddr\n",
      "copying build\\lib\\ddr\\get_vecs.py -> build\\bdist.win-amd64\\egg\\ddr\n",
      "copying build\\lib\\ddr\\load_model.py -> build\\bdist.win-amd64\\egg\\ddr\n",
      "copying build\\lib\\ddr\\load_terms.py -> build\\bdist.win-amd64\\egg\\ddr\n",
      "copying build\\lib\\ddr\\nearest_neighbors.py -> build\\bdist.win-amd64\\egg\\ddr\n",
      "copying build\\lib\\ddr\\simple_progress_bar.py -> build\\bdist.win-amd64\\egg\\ddr\n",
      "copying build\\lib\\ddr\\__init__.py -> build\\bdist.win-amd64\\egg\\ddr\n",
      "byte-compiling build\\bdist.win-amd64\\egg\\ddr\\cosine_similarity.py to cosine_similarity.cpython-39.pyc\n",
      "byte-compiling build\\bdist.win-amd64\\egg\\ddr\\file_length.py to file_length.cpython-39.pyc\n",
      "byte-compiling build\\bdist.win-amd64\\egg\\ddr\\get_loadings.py to get_loadings.cpython-39.pyc\n",
      "byte-compiling build\\bdist.win-amd64\\egg\\ddr\\get_vecs.py to get_vecs.cpython-39.pyc\n",
      "byte-compiling build\\bdist.win-amd64\\egg\\ddr\\load_model.py to load_model.cpython-39.pyc\n",
      "byte-compiling build\\bdist.win-amd64\\egg\\ddr\\load_terms.py to load_terms.cpython-39.pyc\n",
      "byte-compiling build\\bdist.win-amd64\\egg\\ddr\\nearest_neighbors.py to nearest_neighbors.cpython-39.pyc\n",
      "byte-compiling build\\bdist.win-amd64\\egg\\ddr\\simple_progress_bar.py to simple_progress_bar.cpython-39.pyc\n",
      "byte-compiling build\\bdist.win-amd64\\egg\\ddr\\__init__.py to __init__.cpython-39.pyc\n",
      "creating build\\bdist.win-amd64\\egg\\EGG-INFO\n",
      "copying ddr.egg-info\\PKG-INFO -> build\\bdist.win-amd64\\egg\\EGG-INFO\n",
      "copying ddr.egg-info\\SOURCES.txt -> build\\bdist.win-amd64\\egg\\EGG-INFO\n",
      "copying ddr.egg-info\\dependency_links.txt -> build\\bdist.win-amd64\\egg\\EGG-INFO\n",
      "copying ddr.egg-info\\not-zip-safe -> build\\bdist.win-amd64\\egg\\EGG-INFO\n",
      "copying ddr.egg-info\\top_level.txt -> build\\bdist.win-amd64\\egg\\EGG-INFO\n",
      "creating 'dist\\ddr-0.1-py3.9.egg' and adding 'build\\bdist.win-amd64\\egg' to it\n",
      "removing 'build\\bdist.win-amd64\\egg' (and everything under it)\n",
      "Processing ddr-0.1-py3.9.egg\n",
      "removing 'c:\\users\\jiatong\\miniconda3\\envs\\proceeds\\lib\\site-packages\\ddr-0.1-py3.9.egg' (and everything under it)\n",
      "creating c:\\users\\jiatong\\miniconda3\\envs\\proceeds\\lib\\site-packages\\ddr-0.1-py3.9.egg\n",
      "Extracting ddr-0.1-py3.9.egg to c:\\users\\jiatong\\miniconda3\\envs\\proceeds\\lib\\site-packages\n",
      "ddr 0.1 is already the active version in easy-install.pth\n",
      "\n",
      "Installed c:\\users\\jiatong\\miniconda3\\envs\\proceeds\\lib\\site-packages\\ddr-0.1-py3.9.egg\n",
      "Processing dependencies for ddr==0.1\n",
      "Finished processing dependencies for ddr==0.1\n"
     ]
    }
   ],
   "source": [
    "%cd DDR\n",
    "# !pip install gensim\n",
    "!python setup.py install"
   ]
  },
  {
   "cell_type": "code",
   "execution_count": 2,
   "metadata": {},
   "outputs": [],
   "source": [
    "import ddr"
   ]
  },
  {
   "cell_type": "code",
   "execution_count": 3,
   "metadata": {},
   "outputs": [],
   "source": [
    "# handle dictionary\n",
    "# %cd DDR\n",
    "file = open('./mfd2.0.dic','r')\n",
    "file.readline()\n",
    "fwrites = []\n",
    "\n",
    "for i in range(10):\n",
    "    fname = file.readline().strip('\\n').split('\\t')[1]\n",
    "    fwrite = open(f'dictionary_dir/{fname}.txt','w')\n",
    "    fwrites.append(fwrite)\n",
    "\n",
    "file.readline()\n",
    "\n",
    "while True:\n",
    "    text = file.readline()\n",
    "    if not text:\n",
    "        break\n",
    "    fwrites[int(text.strip('\\n').split('\\t')[1])-1].write(text.split('\\t')[0] + ' ')\n",
    "\n",
    "for fwrite in fwrites:\n",
    "    fwrite.close()"
   ]
  },
  {
   "cell_type": "code",
   "execution_count": 4,
   "metadata": {},
   "outputs": [],
   "source": [
    "documents_path = '../committee_report_texts'\n",
    "dictionary_directory = './dictionary_dir'\n",
    "model_path = './GoogleNews-vectors-negative300.bin'\n",
    "dictionary_vector_path = './agg_dic_vectors.tsv'\n",
    "document_vector_path = './agg_doc_vecs.tsv'\n",
    "document_loadings_out_path = './document_dictionary_loadings.tsv'"
   ]
  },
  {
   "cell_type": "code",
   "execution_count": 5,
   "metadata": {},
   "outputs": [
    {
     "name": "stderr",
     "output_type": "stream",
     "text": [
      "2022-10-23 15:23:41,420 : INFO : loading projection weights from ./GoogleNews-vectors-negative300.bin\n"
     ]
    }
   ],
   "source": [
    "model, num_features, model_word_set=ddr.load_model(model_path)"
   ]
  },
  {
   "cell_type": "code",
   "execution_count": null,
   "metadata": {},
   "outputs": [],
   "source": [
    "dic_terms=ddr.terms_from_txt(input_path=dictionary_directory)"
   ]
  },
  {
   "cell_type": "code",
   "execution_count": null,
   "metadata": {},
   "outputs": [
    {
     "name": "stderr",
     "output_type": "stream",
     "text": [
      "c:\\Users\\jiatong\\miniconda3\\envs\\proceeds\\lib\\site-packages\\ddr-0.1-py3.9.egg\\ddr\\get_vecs.py:29: RuntimeWarning: invalid value encountered in divide\n",
      "  avg_feature_vec = feature_vec / nwords\n"
     ]
    }
   ],
   "source": [
    "agg_dic_vecs=ddr.dic_vecs(dic_terms=dic_terms, model=model, num_features=num_features, model_word_set=model_word_set)"
   ]
  },
  {
   "cell_type": "code",
   "execution_count": null,
   "metadata": {},
   "outputs": [],
   "source": [
    "ddr.write_dic_vecs(dic_vecs=agg_dic_vecs, output_path=dictionary_vector_path)"
   ]
  },
  {
   "cell_type": "code",
   "execution_count": null,
   "metadata": {},
   "outputs": [
    {
     "name": "stdout",
     "output_type": "stream",
     "text": [
      "Generating aggregate distributed representations of 16480.0 texts.\n",
      "Percent: [#---------] 5.000303416469446% "
     ]
    },
    {
     "name": "stderr",
     "output_type": "stream",
     "text": [
      "c:\\Users\\jiatong\\miniconda3\\envs\\proceeds\\lib\\site-packages\\ddr-0.1-py3.9.egg\\ddr\\get_vecs.py:29: RuntimeWarning: invalid value encountered in divide\n",
      "  avg_feature_vec = feature_vec / nwords\n"
     ]
    },
    {
     "name": "stdout",
     "output_type": "stream",
     "text": [
      "Percent: [##########] 100% Done...91947%  \n",
      "\n",
      "Finished calculating aggregate document representations \n",
      "Number of NA: 0\n",
      "Generating aggregate distributed representations of 14246.0 texts.\n",
      "Percent: [##########] 95.1000351000351%   \n",
      "Finished calculating aggregate document representations \n",
      "Number of NA: 0\n",
      "Generating aggregate distributed representations of 2747.0 texts.\n",
      "Percent: [##########] 95.48434085943191%  \n",
      "Finished calculating aggregate document representations \n",
      "Number of NA: 0\n",
      "Generating aggregate distributed representations of 13530.0 texts.\n",
      "Percent: [##########] 95.07724148126248%  \n",
      "Finished calculating aggregate document representations \n",
      "Number of NA: 0\n",
      "Generating aggregate distributed representations of 32872.0 texts.\n",
      "Percent: [##########] 95.02601076937118%  \n",
      "Finished calculating aggregate document representations \n",
      "Number of NA: 0\n",
      "Generating aggregate distributed representations of 20633.0 texts.\n",
      "Percent: [##########] 95.03683598293912%  \n",
      "Finished calculating aggregate document representations \n",
      "Number of NA: 0\n",
      "Generating aggregate distributed representations of 12282.0 texts.\n",
      "Percent: [##########] 95.14697500203566%  \n",
      "Finished calculating aggregate document representations \n",
      "Number of NA: 0\n",
      "Generating aggregate distributed representations of 2105.0 texts.\n",
      "Percent: [##########] 95.72243346007605%  \n",
      "Finished calculating aggregate document representations \n",
      "Number of NA: 0\n",
      "Generating aggregate distributed representations of 1276.0 texts.\n",
      "Percent: [##########] 95.37254901960785%  \n",
      "Finished calculating aggregate document representations \n",
      "Number of NA: 0\n",
      "Generating aggregate distributed representations of 11351.0 texts.\n",
      "Percent: [##########] 95.08370044052863%  \n",
      "Finished calculating aggregate document representations \n",
      "Number of NA: 0\n",
      "Generating aggregate distributed representations of 13038.0 texts.\n",
      "Percent: [##########] 95.02186085755926%  \n",
      "Finished calculating aggregate document representations \n",
      "Number of NA: 0\n",
      "Generating aggregate distributed representations of 10953.0 texts.\n",
      "Percent: [##########] 95.06939371804238%  \n",
      "Finished calculating aggregate document representations \n",
      "Number of NA: 0\n",
      "Generating aggregate distributed representations of 12165.0 texts.\n",
      "Percent: [##########] 95.12495889510029%  \n",
      "Finished calculating aggregate document representations \n",
      "Number of NA: 0\n",
      "Generating aggregate distributed representations of 11313.0 texts.\n",
      "Percent: [##########] 95.06718528995756%  \n",
      "Finished calculating aggregate document representations \n",
      "Number of NA: 0\n",
      "Generating aggregate distributed representations of 8386.0 texts.\n",
      "Percent: [##########] 95.16994633273703%  \n",
      "Finished calculating aggregate document representations \n",
      "Number of NA: 0\n",
      "Generating aggregate distributed representations of 10033.0 texts.\n",
      "Percent: [##########] 95.07575757575758%  \n",
      "Finished calculating aggregate document representations \n",
      "Number of NA: 0\n",
      "Generating aggregate distributed representations of 10279.0 texts.\n",
      "Percent: [##########] 95.0184860867873%   \n",
      "Finished calculating aggregate document representations \n",
      "Number of NA: 0\n",
      "Generating aggregate distributed representations of 88696.0 texts.\n",
      "Percent: [##########] 95.00535543153504%  \n",
      "Finished calculating aggregate document representations \n",
      "Number of NA: 0\n",
      "Generating aggregate distributed representations of 99957.0 texts.\n",
      "Percent: [##########] 95.003801672736% %  \n",
      "Finished calculating aggregate document representations \n",
      "Number of NA: 0\n",
      "Generating aggregate distributed representations of 29980.0 texts.\n",
      "Percent: [##########] 100% Done...8861%   \n",
      "\n",
      "Finished calculating aggregate document representations \n",
      "Number of NA: 0\n",
      "Generating aggregate distributed representations of 1371.0 texts.\n",
      "Percent: [##########] 95.69343065693431%  \n",
      "Finished calculating aggregate document representations \n",
      "Number of NA: 0\n",
      "Generating aggregate distributed representations of 1002.0 texts.\n",
      "Percent: [##########] 96.8031968031968%   \n",
      "Finished calculating aggregate document representations \n",
      "Number of NA: 0\n",
      "Generating aggregate distributed representations of 10354.0 texts.\n",
      "Percent: [##########] 95.06423258958756%  \n",
      "Finished calculating aggregate document representations \n",
      "Number of NA: 0\n",
      "Generating aggregate distributed representations of 55522.0 texts.\n",
      "Percent: [##########] 95.03251022135768%  \n",
      "Finished calculating aggregate document representations \n",
      "Number of NA: 0\n",
      "Generating aggregate distributed representations of 1623.0 texts.\n",
      "Percent: [##########] 96.05425400739827%  \n",
      "Finished calculating aggregate document representations \n",
      "Number of NA: 0\n",
      "Generating aggregate distributed representations of 8184.0 texts.\n",
      "Percent: [##########] 95.19736038127826%  \n",
      "Finished calculating aggregate document representations \n",
      "Number of NA: 0\n",
      "Generating aggregate distributed representations of 2551.0 texts.\n",
      "Percent: [##########] 95.37254901960785%  \n",
      "Finished calculating aggregate document representations \n",
      "Number of NA: 0\n",
      "Generating aggregate distributed representations of 15596.0 texts.\n",
      "Percent: [##########] 95.03045848028215%  \n",
      "Finished calculating aggregate document representations \n",
      "Number of NA: 0\n",
      "Generating aggregate distributed representations of 32954.0 texts.\n",
      "Percent: [##########] 95.02018025672928%  \n",
      "Finished calculating aggregate document representations \n",
      "Number of NA: 0\n"
     ]
    }
   ],
   "source": [
    "ddr.doc_vecs_from_txt(input_path=documents_path, output_path=document_vector_path,\n",
    "    model=model, num_features=num_features, model_word_set=model_word_set)"
   ]
  },
  {
   "cell_type": "code",
   "execution_count": null,
   "metadata": {},
   "outputs": [],
   "source": [
    "ddr.get_loadings(agg_doc_vecs_path=document_vector_path,\n",
    "    agg_dic_vecs_path=dictionary_vector_path,\n",
    "    out_path=document_loadings_out_path,\n",
    "    num_features=num_features)"
   ]
  }
 ],
 "metadata": {
  "kernelspec": {
   "display_name": "Python 3.9.12 ('proceeds')",
   "language": "python",
   "name": "python3"
  },
  "language_info": {
   "codemirror_mode": {
    "name": "ipython",
    "version": 3
   },
   "file_extension": ".py",
   "mimetype": "text/x-python",
   "name": "python",
   "nbconvert_exporter": "python",
   "pygments_lexer": "ipython3",
   "version": "3.9.12"
  },
  "orig_nbformat": 4,
  "vscode": {
   "interpreter": {
    "hash": "004e774415fc48f1d374240339036af9e2f6509ea8f6bdefc3b37f08e9c8bc33"
   }
  }
 },
 "nbformat": 4,
 "nbformat_minor": 2
}
